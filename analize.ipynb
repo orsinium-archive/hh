{
 "cells": [
  {
   "cell_type": "code",
   "execution_count": 1,
   "metadata": {},
   "outputs": [],
   "source": [
    "import dateutil\n",
    "import matplotlib.pyplot as plt\n",
    "import pandas\n",
    "import re\n",
    "import requests\n",
    "import seaborn\n",
    "\n",
    "from collections import Counter\n",
    "from datetime import datetime\n",
    "from user_agent import generate_user_agent\n",
    "from bs4 import BeautifulSoup"
   ]
  },
  {
   "cell_type": "code",
   "execution_count": 2,
   "metadata": {},
   "outputs": [],
   "source": [
    "keyword = 'Django'\n",
    "area = 2  # 1 - MSK, 2 - SPB\n",
    "salary = 120 * 1000  # RUR"
   ]
  },
  {
   "cell_type": "code",
   "execution_count": 3,
   "metadata": {},
   "outputs": [],
   "source": [
    "BASE_URL = 'https://api.hh.ru'"
   ]
  },
  {
   "cell_type": "code",
   "execution_count": 4,
   "metadata": {},
   "outputs": [
    {
     "data": {
      "text/plain": [
       "<Response [200]>"
      ]
     },
     "execution_count": 4,
     "metadata": {},
     "output_type": "execute_result"
    }
   ],
   "source": [
    "params = dict(\n",
    "    order_by='salary_desc',\n",
    "    text=keyword,\n",
    "    area=area,\n",
    "    period=30, # days\n",
    "    per_page=100,\n",
    "    no_magic='false',  # disable magic\n",
    "    vacancy_search_fields='description',  # available: name, description, company_name\n",
    ")\n",
    "response = requests.get(\n",
    "    BASE_URL + '/vacancies',\n",
    "    headers={'User-Agent': generate_user_agent()},\n",
    "    params=params,\n",
    ")\n",
    "response"
   ]
  },
  {
   "cell_type": "markdown",
   "metadata": {},
   "source": [
    "## Main info"
   ]
  },
  {
   "cell_type": "code",
   "execution_count": 5,
   "metadata": {},
   "outputs": [],
   "source": [
    "items = response.json()['items']\n",
    "vacancies = []\n",
    "for item in items:\n",
    "    vacancies.append(dict(\n",
    "        id=item['id'],\n",
    "        name=item['name'],\n",
    "        salary_from=item['salary']['from'] if item['salary'] else None,\n",
    "        salary_to=item['salary']['to'] if item['salary'] else None,\n",
    "        created=item['published_at'],\n",
    "        company=item['employer']['name'],\n",
    "        company_id=item['employer']['id'],\n",
    "    ))\n",
    "\n",
    "vacancies = pandas.DataFrame(\n",
    "    vacancies,\n",
    "    columns=['id', 'name', 'salary_from', 'salary_to', 'created', 'company_id', 'company'],\n",
    ")"
   ]
  },
  {
   "cell_type": "code",
   "execution_count": 6,
   "metadata": {},
   "outputs": [
    {
     "data": {
      "text/html": [
       "<div>\n",
       "<style scoped>\n",
       "    .dataframe tbody tr th:only-of-type {\n",
       "        vertical-align: middle;\n",
       "    }\n",
       "\n",
       "    .dataframe tbody tr th {\n",
       "        vertical-align: top;\n",
       "    }\n",
       "\n",
       "    .dataframe thead th {\n",
       "        text-align: right;\n",
       "    }\n",
       "</style>\n",
       "<table border=\"1\" class=\"dataframe\">\n",
       "  <thead>\n",
       "    <tr style=\"text-align: right;\">\n",
       "      <th></th>\n",
       "      <th>id</th>\n",
       "      <th>name</th>\n",
       "      <th>salary_from</th>\n",
       "      <th>salary_to</th>\n",
       "      <th>created</th>\n",
       "      <th>company_id</th>\n",
       "      <th>company</th>\n",
       "    </tr>\n",
       "  </thead>\n",
       "  <tbody>\n",
       "    <tr>\n",
       "      <th>0</th>\n",
       "      <td>25608352</td>\n",
       "      <td>Senior Full Stack Developer (React.js, Backbon...</td>\n",
       "      <td>3800.0</td>\n",
       "      <td>5400.0</td>\n",
       "      <td>2018-04-27T19:22:25+0300</td>\n",
       "      <td>141547</td>\n",
       "      <td>КА Натальи Зотовой</td>\n",
       "    </tr>\n",
       "    <tr>\n",
       "      <th>1</th>\n",
       "      <td>21072095</td>\n",
       "      <td>Senior Backend Developer (Кипр)</td>\n",
       "      <td>3000.0</td>\n",
       "      <td>NaN</td>\n",
       "      <td>2018-04-23T12:31:42+0300</td>\n",
       "      <td>1818108</td>\n",
       "      <td>IBIT</td>\n",
       "    </tr>\n",
       "    <tr>\n",
       "      <th>2</th>\n",
       "      <td>24827105</td>\n",
       "      <td>Back-End Web Developer (Python)</td>\n",
       "      <td>200000.0</td>\n",
       "      <td>300000.0</td>\n",
       "      <td>2018-04-28T15:53:20+0300</td>\n",
       "      <td>1738507</td>\n",
       "      <td>Soshace</td>\n",
       "    </tr>\n",
       "    <tr>\n",
       "      <th>3</th>\n",
       "      <td>22056926</td>\n",
       "      <td>Senior Software Developer (PyCharm)</td>\n",
       "      <td>180000.0</td>\n",
       "      <td>NaN</td>\n",
       "      <td>2018-04-09T18:34:04+0300</td>\n",
       "      <td>9281</td>\n",
       "      <td>JetBrains</td>\n",
       "    </tr>\n",
       "    <tr>\n",
       "      <th>4</th>\n",
       "      <td>25195178</td>\n",
       "      <td>Python разработчик</td>\n",
       "      <td>170000.0</td>\n",
       "      <td>220000.0</td>\n",
       "      <td>2018-04-27T19:07:42+0300</td>\n",
       "      <td>2068941</td>\n",
       "      <td>Cindicator</td>\n",
       "    </tr>\n",
       "  </tbody>\n",
       "</table>\n",
       "</div>"
      ],
      "text/plain": [
       "         id                                               name  salary_from  \\\n",
       "0  25608352  Senior Full Stack Developer (React.js, Backbon...       3800.0   \n",
       "1  21072095                    Senior Backend Developer (Кипр)       3000.0   \n",
       "2  24827105                    Back-End Web Developer (Python)     200000.0   \n",
       "3  22056926                Senior Software Developer (PyCharm)     180000.0   \n",
       "4  25195178                                 Python разработчик     170000.0   \n",
       "\n",
       "   salary_to                   created company_id             company  \n",
       "0     5400.0  2018-04-27T19:22:25+0300     141547  КА Натальи Зотовой  \n",
       "1        NaN  2018-04-23T12:31:42+0300    1818108                IBIT  \n",
       "2   300000.0  2018-04-28T15:53:20+0300    1738507             Soshace  \n",
       "3        NaN  2018-04-09T18:34:04+0300       9281           JetBrains  \n",
       "4   220000.0  2018-04-27T19:07:42+0300    2068941          Cindicator  "
      ]
     },
     "execution_count": 6,
     "metadata": {},
     "output_type": "execute_result"
    }
   ],
   "source": [
    "vacancies.head()"
   ]
  },
  {
   "cell_type": "code",
   "execution_count": 7,
   "metadata": {},
   "outputs": [],
   "source": [
    "# convert ISO string to datetime\n",
    "vacancies['created'] = vacancies['created'].apply(lambda x: dateutil.parser.parse(x))"
   ]
  },
  {
   "cell_type": "code",
   "execution_count": 8,
   "metadata": {},
   "outputs": [],
   "source": [
    "# extract weekday and publish time from vacancies\n",
    "vacancies['weekday'] = vacancies['created'].apply(lambda x: x.weekday() + 1)\n",
    "vacancies['hour'] = vacancies['created'].apply(lambda x: x.hour)"
   ]
  },
  {
   "cell_type": "code",
   "execution_count": 9,
   "metadata": {},
   "outputs": [
    {
     "data": {
      "text/html": [
       "<div>\n",
       "<style scoped>\n",
       "    .dataframe tbody tr th:only-of-type {\n",
       "        vertical-align: middle;\n",
       "    }\n",
       "\n",
       "    .dataframe tbody tr th {\n",
       "        vertical-align: top;\n",
       "    }\n",
       "\n",
       "    .dataframe thead th {\n",
       "        text-align: right;\n",
       "    }\n",
       "</style>\n",
       "<table border=\"1\" class=\"dataframe\">\n",
       "  <thead>\n",
       "    <tr style=\"text-align: right;\">\n",
       "      <th></th>\n",
       "      <th>id</th>\n",
       "      <th>name</th>\n",
       "      <th>salary_from</th>\n",
       "      <th>salary_to</th>\n",
       "      <th>created</th>\n",
       "      <th>company_id</th>\n",
       "      <th>company</th>\n",
       "      <th>weekday</th>\n",
       "      <th>hour</th>\n",
       "    </tr>\n",
       "  </thead>\n",
       "  <tbody>\n",
       "    <tr>\n",
       "      <th>0</th>\n",
       "      <td>25608352</td>\n",
       "      <td>Senior Full Stack Developer (React.js, Backbon...</td>\n",
       "      <td>3800.0</td>\n",
       "      <td>5400.0</td>\n",
       "      <td>2018-04-27 19:22:25+03:00</td>\n",
       "      <td>141547</td>\n",
       "      <td>КА Натальи Зотовой</td>\n",
       "      <td>5</td>\n",
       "      <td>19</td>\n",
       "    </tr>\n",
       "    <tr>\n",
       "      <th>1</th>\n",
       "      <td>21072095</td>\n",
       "      <td>Senior Backend Developer (Кипр)</td>\n",
       "      <td>3000.0</td>\n",
       "      <td>NaN</td>\n",
       "      <td>2018-04-23 12:31:42+03:00</td>\n",
       "      <td>1818108</td>\n",
       "      <td>IBIT</td>\n",
       "      <td>1</td>\n",
       "      <td>12</td>\n",
       "    </tr>\n",
       "    <tr>\n",
       "      <th>2</th>\n",
       "      <td>24827105</td>\n",
       "      <td>Back-End Web Developer (Python)</td>\n",
       "      <td>200000.0</td>\n",
       "      <td>300000.0</td>\n",
       "      <td>2018-04-28 15:53:20+03:00</td>\n",
       "      <td>1738507</td>\n",
       "      <td>Soshace</td>\n",
       "      <td>6</td>\n",
       "      <td>15</td>\n",
       "    </tr>\n",
       "    <tr>\n",
       "      <th>3</th>\n",
       "      <td>22056926</td>\n",
       "      <td>Senior Software Developer (PyCharm)</td>\n",
       "      <td>180000.0</td>\n",
       "      <td>NaN</td>\n",
       "      <td>2018-04-09 18:34:04+03:00</td>\n",
       "      <td>9281</td>\n",
       "      <td>JetBrains</td>\n",
       "      <td>1</td>\n",
       "      <td>18</td>\n",
       "    </tr>\n",
       "    <tr>\n",
       "      <th>4</th>\n",
       "      <td>25195178</td>\n",
       "      <td>Python разработчик</td>\n",
       "      <td>170000.0</td>\n",
       "      <td>220000.0</td>\n",
       "      <td>2018-04-27 19:07:42+03:00</td>\n",
       "      <td>2068941</td>\n",
       "      <td>Cindicator</td>\n",
       "      <td>5</td>\n",
       "      <td>19</td>\n",
       "    </tr>\n",
       "  </tbody>\n",
       "</table>\n",
       "</div>"
      ],
      "text/plain": [
       "         id                                               name  salary_from  \\\n",
       "0  25608352  Senior Full Stack Developer (React.js, Backbon...       3800.0   \n",
       "1  21072095                    Senior Backend Developer (Кипр)       3000.0   \n",
       "2  24827105                    Back-End Web Developer (Python)     200000.0   \n",
       "3  22056926                Senior Software Developer (PyCharm)     180000.0   \n",
       "4  25195178                                 Python разработчик     170000.0   \n",
       "\n",
       "   salary_to                   created company_id             company  \\\n",
       "0     5400.0 2018-04-27 19:22:25+03:00     141547  КА Натальи Зотовой   \n",
       "1        NaN 2018-04-23 12:31:42+03:00    1818108                IBIT   \n",
       "2   300000.0 2018-04-28 15:53:20+03:00    1738507             Soshace   \n",
       "3        NaN 2018-04-09 18:34:04+03:00       9281           JetBrains   \n",
       "4   220000.0 2018-04-27 19:07:42+03:00    2068941          Cindicator   \n",
       "\n",
       "   weekday  hour  \n",
       "0        5    19  \n",
       "1        1    12  \n",
       "2        6    15  \n",
       "3        1    18  \n",
       "4        5    19  "
      ]
     },
     "execution_count": 9,
     "metadata": {},
     "output_type": "execute_result"
    }
   ],
   "source": [
    "vacancies.head()"
   ]
  },
  {
   "cell_type": "code",
   "execution_count": 10,
   "metadata": {},
   "outputs": [
    {
     "data": {
      "text/html": [
       "<div>\n",
       "<style scoped>\n",
       "    .dataframe tbody tr th:only-of-type {\n",
       "        vertical-align: middle;\n",
       "    }\n",
       "\n",
       "    .dataframe tbody tr th {\n",
       "        vertical-align: top;\n",
       "    }\n",
       "\n",
       "    .dataframe thead th {\n",
       "        text-align: right;\n",
       "    }\n",
       "</style>\n",
       "<table border=\"1\" class=\"dataframe\">\n",
       "  <thead>\n",
       "    <tr style=\"text-align: right;\">\n",
       "      <th></th>\n",
       "      <th>salary_from</th>\n",
       "      <th>salary_to</th>\n",
       "      <th>weekday</th>\n",
       "      <th>hour</th>\n",
       "    </tr>\n",
       "  </thead>\n",
       "  <tbody>\n",
       "    <tr>\n",
       "      <th>count</th>\n",
       "      <td>26.000000</td>\n",
       "      <td>15.000000</td>\n",
       "      <td>59.000000</td>\n",
       "      <td>59.000000</td>\n",
       "    </tr>\n",
       "    <tr>\n",
       "      <th>mean</th>\n",
       "      <td>87884.615385</td>\n",
       "      <td>117560.000000</td>\n",
       "      <td>3.796610</td>\n",
       "      <td>13.847458</td>\n",
       "    </tr>\n",
       "    <tr>\n",
       "      <th>std</th>\n",
       "      <td>58800.521714</td>\n",
       "      <td>80869.319628</td>\n",
       "      <td>1.927833</td>\n",
       "      <td>3.872153</td>\n",
       "    </tr>\n",
       "    <tr>\n",
       "      <th>min</th>\n",
       "      <td>1200.000000</td>\n",
       "      <td>3000.000000</td>\n",
       "      <td>1.000000</td>\n",
       "      <td>5.000000</td>\n",
       "    </tr>\n",
       "    <tr>\n",
       "      <th>25%</th>\n",
       "      <td>38750.000000</td>\n",
       "      <td>62500.000000</td>\n",
       "      <td>2.000000</td>\n",
       "      <td>11.000000</td>\n",
       "    </tr>\n",
       "    <tr>\n",
       "      <th>50%</th>\n",
       "      <td>85000.000000</td>\n",
       "      <td>100000.000000</td>\n",
       "      <td>4.000000</td>\n",
       "      <td>13.000000</td>\n",
       "    </tr>\n",
       "    <tr>\n",
       "      <th>75%</th>\n",
       "      <td>127500.000000</td>\n",
       "      <td>150000.000000</td>\n",
       "      <td>5.000000</td>\n",
       "      <td>17.000000</td>\n",
       "    </tr>\n",
       "    <tr>\n",
       "      <th>max</th>\n",
       "      <td>200000.000000</td>\n",
       "      <td>300000.000000</td>\n",
       "      <td>7.000000</td>\n",
       "      <td>22.000000</td>\n",
       "    </tr>\n",
       "  </tbody>\n",
       "</table>\n",
       "</div>"
      ],
      "text/plain": [
       "         salary_from      salary_to    weekday       hour\n",
       "count      26.000000      15.000000  59.000000  59.000000\n",
       "mean    87884.615385  117560.000000   3.796610  13.847458\n",
       "std     58800.521714   80869.319628   1.927833   3.872153\n",
       "min      1200.000000    3000.000000   1.000000   5.000000\n",
       "25%     38750.000000   62500.000000   2.000000  11.000000\n",
       "50%     85000.000000  100000.000000   4.000000  13.000000\n",
       "75%    127500.000000  150000.000000   5.000000  17.000000\n",
       "max    200000.000000  300000.000000   7.000000  22.000000"
      ]
     },
     "execution_count": 10,
     "metadata": {},
     "output_type": "execute_result"
    }
   ],
   "source": [
    "vacancies.describe()"
   ]
  },
  {
   "cell_type": "code",
   "execution_count": 11,
   "metadata": {},
   "outputs": [],
   "source": [
    "%matplotlib inline"
   ]
  },
  {
   "cell_type": "markdown",
   "metadata": {},
   "source": [
    "Let's find hardest HR's days and hours"
   ]
  },
  {
   "cell_type": "code",
   "execution_count": 12,
   "metadata": {},
   "outputs": [
    {
     "data": {
      "text/plain": [
       "<matplotlib.axes._subplots.AxesSubplot at 0x7fbefc0a8cf8>"
      ]
     },
     "execution_count": 12,
     "metadata": {},
     "output_type": "execute_result"
    },
    {
     "data": {
      "image/png": "[encoded data removed]",
      "text/plain": [
       "<Figure size 432x288 with 1 Axes>"
      ]
     },
     "metadata": {},
     "output_type": "display_data"
    }
   ],
   "source": [
    "seaborn.countplot(vacancies.weekday)"
   ]
  },
  {
   "cell_type": "code",
   "execution_count": 13,
   "metadata": {},
   "outputs": [
    {
     "data": {
      "text/plain": [
       "<matplotlib.axes._subplots.AxesSubplot at 0x7fbefa0409e8>"
      ]
     },
     "execution_count": 13,
     "metadata": {},
     "output_type": "execute_result"
    },
    {
     "data": {
      "image/png": "[encoded data removed]",
      "text/plain": [
       "<Figure size 432x288 with 1 Axes>"
      ]
     },
     "metadata": {},
     "output_type": "display_data"
    }
   ],
   "source": [
    "seaborn.countplot(vacancies.hour)"
   ]
  },
  {
   "cell_type": "markdown",
   "metadata": {},
   "source": [
    "Companies that work in night or holydays:"
   ]
  },
  {
   "cell_type": "code",
   "execution_count": 14,
   "metadata": {},
   "outputs": [
    {
     "data": {
      "text/html": [
       "<div>\n",
       "<style scoped>\n",
       "    .dataframe tbody tr th:only-of-type {\n",
       "        vertical-align: middle;\n",
       "    }\n",
       "\n",
       "    .dataframe tbody tr th {\n",
       "        vertical-align: top;\n",
       "    }\n",
       "\n",
       "    .dataframe thead th {\n",
       "        text-align: right;\n",
       "    }\n",
       "</style>\n",
       "<table border=\"1\" class=\"dataframe\">\n",
       "  <thead>\n",
       "    <tr style=\"text-align: right;\">\n",
       "      <th></th>\n",
       "      <th>company</th>\n",
       "      <th>weekday</th>\n",
       "      <th>hour</th>\n",
       "    </tr>\n",
       "  </thead>\n",
       "  <tbody>\n",
       "    <tr>\n",
       "      <th>14</th>\n",
       "      <td>ACQUIRED IO, INC</td>\n",
       "      <td>6</td>\n",
       "      <td>18</td>\n",
       "    </tr>\n",
       "    <tr>\n",
       "      <th>5</th>\n",
       "      <td>Investex Ltd</td>\n",
       "      <td>4</td>\n",
       "      <td>9</td>\n",
       "    </tr>\n",
       "    <tr>\n",
       "      <th>30</th>\n",
       "      <td>Itransition</td>\n",
       "      <td>6</td>\n",
       "      <td>10</td>\n",
       "    </tr>\n",
       "    <tr>\n",
       "      <th>10</th>\n",
       "      <td>JetBrains</td>\n",
       "      <td>6</td>\n",
       "      <td>17</td>\n",
       "    </tr>\n",
       "    <tr>\n",
       "      <th>13</th>\n",
       "      <td>Mediterra</td>\n",
       "      <td>7</td>\n",
       "      <td>15</td>\n",
       "    </tr>\n",
       "    <tr>\n",
       "      <th>38</th>\n",
       "      <td>NETRIKA</td>\n",
       "      <td>3</td>\n",
       "      <td>9</td>\n",
       "    </tr>\n",
       "    <tr>\n",
       "      <th>55</th>\n",
       "      <td>OpenWay Group</td>\n",
       "      <td>1</td>\n",
       "      <td>7</td>\n",
       "    </tr>\n",
       "    <tr>\n",
       "      <th>36</th>\n",
       "      <td>SMART HR</td>\n",
       "      <td>4</td>\n",
       "      <td>9</td>\n",
       "    </tr>\n",
       "    <tr>\n",
       "      <th>31</th>\n",
       "      <td>Softline</td>\n",
       "      <td>4</td>\n",
       "      <td>5</td>\n",
       "    </tr>\n",
       "    <tr>\n",
       "      <th>2</th>\n",
       "      <td>Soshace</td>\n",
       "      <td>6</td>\n",
       "      <td>15</td>\n",
       "    </tr>\n",
       "    <tr>\n",
       "      <th>18</th>\n",
       "      <td>Subtotal</td>\n",
       "      <td>5</td>\n",
       "      <td>21</td>\n",
       "    </tr>\n",
       "    <tr>\n",
       "      <th>47</th>\n",
       "      <td>Wargaming</td>\n",
       "      <td>6</td>\n",
       "      <td>10</td>\n",
       "    </tr>\n",
       "    <tr>\n",
       "      <th>42</th>\n",
       "      <td>eVelopers</td>\n",
       "      <td>6</td>\n",
       "      <td>13</td>\n",
       "    </tr>\n",
       "    <tr>\n",
       "      <th>25</th>\n",
       "      <td>АппВелокс</td>\n",
       "      <td>6</td>\n",
       "      <td>22</td>\n",
       "    </tr>\n",
       "    <tr>\n",
       "      <th>22</th>\n",
       "      <td>ВЕБИМ.РУ</td>\n",
       "      <td>4</td>\n",
       "      <td>7</td>\n",
       "    </tr>\n",
       "    <tr>\n",
       "      <th>29</th>\n",
       "      <td>Газпром нефть</td>\n",
       "      <td>2</td>\n",
       "      <td>9</td>\n",
       "    </tr>\n",
       "    <tr>\n",
       "      <th>32</th>\n",
       "      <td>Главстрой-СПб</td>\n",
       "      <td>6</td>\n",
       "      <td>17</td>\n",
       "    </tr>\n",
       "    <tr>\n",
       "      <th>46</th>\n",
       "      <td>Калкулэйт</td>\n",
       "      <td>6</td>\n",
       "      <td>16</td>\n",
       "    </tr>\n",
       "    <tr>\n",
       "      <th>37</th>\n",
       "      <td>МЕЛ Саенс</td>\n",
       "      <td>7</td>\n",
       "      <td>13</td>\n",
       "    </tr>\n",
       "    <tr>\n",
       "      <th>45</th>\n",
       "      <td>МЕЛ Саенс</td>\n",
       "      <td>7</td>\n",
       "      <td>13</td>\n",
       "    </tr>\n",
       "    <tr>\n",
       "      <th>27</th>\n",
       "      <td>ЦИАН ГРУПП</td>\n",
       "      <td>1</td>\n",
       "      <td>9</td>\n",
       "    </tr>\n",
       "    <tr>\n",
       "      <th>33</th>\n",
       "      <td>Центр недвижимости от Сбербанка</td>\n",
       "      <td>6</td>\n",
       "      <td>12</td>\n",
       "    </tr>\n",
       "  </tbody>\n",
       "</table>\n",
       "</div>"
      ],
      "text/plain": [
       "                            company  weekday  hour\n",
       "14                 ACQUIRED IO, INC        6    18\n",
       "5                      Investex Ltd        4     9\n",
       "30                      Itransition        6    10\n",
       "10                        JetBrains        6    17\n",
       "13                        Mediterra        7    15\n",
       "38                          NETRIKA        3     9\n",
       "55                    OpenWay Group        1     7\n",
       "36                         SMART HR        4     9\n",
       "31                         Softline        4     5\n",
       "2                           Soshace        6    15\n",
       "18                         Subtotal        5    21\n",
       "47                        Wargaming        6    10\n",
       "42                        eVelopers        6    13\n",
       "25                        АппВелокс        6    22\n",
       "22                         ВЕБИМ.РУ        4     7\n",
       "29                    Газпром нефть        2     9\n",
       "32                    Главстрой-СПб        6    17\n",
       "46                        Калкулэйт        6    16\n",
       "37                        МЕЛ Саенс        7    13\n",
       "45                        МЕЛ Саенс        7    13\n",
       "27                       ЦИАН ГРУПП        1     9\n",
       "33  Центр недвижимости от Сбербанка        6    12"
      ]
     },
     "execution_count": 14,
     "metadata": {},
     "output_type": "execute_result"
    }
   ],
   "source": [
    "blacklist = vacancies[(vacancies.hour >= 20) | (vacancies.hour < 10) | (vacancies.weekday > 5)]\n",
    "blacklist.sort_values('company')[['company', 'weekday', 'hour']]"
   ]
  },
  {
   "cell_type": "markdown",
   "metadata": {},
   "source": [
    "Let's analize salaries!"
   ]
  },
  {
   "cell_type": "code",
   "execution_count": 15,
   "metadata": {},
   "outputs": [
    {
     "data": {
      "text/plain": [
       "(20000.0, 117560.0)"
      ]
     },
     "execution_count": 15,
     "metadata": {},
     "output_type": "execute_result"
    }
   ],
   "source": [
    "sfrom = vacancies[vacancies.salary_from > 10000].salary_from.min()\n",
    "sto = vacancies.salary_to.mean()\n",
    "sfrom, sto"
   ]
  },
  {
   "cell_type": "code",
   "execution_count": 16,
   "metadata": {},
   "outputs": [
    {
     "data": {
      "text/plain": [
       "<matplotlib.axes._subplots.AxesSubplot at 0x7fbef9fb82e8>"
      ]
     },
     "execution_count": 16,
     "metadata": {},
     "output_type": "execute_result"
    },
    {
     "data": {
      "image/png": "[encoded data removed]",
      "text/plain": [
       "<Figure size 432x288 with 1 Axes>"
      ]
     },
     "metadata": {},
     "output_type": "display_data"
    }
   ],
   "source": [
    "def avg_salary(row):\n",
    "    if pandas.isnull(row.salary_from) or row.salary_from < 10000:\n",
    "        f = sfrom\n",
    "    else:\n",
    "        f = row.salary_from\n",
    "    if pandas.isnull(row.salary_to) or row.salary_to < 10000:\n",
    "        t = sto\n",
    "    else:\n",
    "        t = row.salary_to\n",
    "    return float(f + t) / 2\n",
    "\n",
    "seaborn.boxplot(vacancies.apply(avg_salary, axis=1))"
   ]
  },
  {
   "cell_type": "markdown",
   "metadata": {},
   "source": [
    "## Keywords"
   ]
  },
  {
   "cell_type": "code",
   "execution_count": 17,
   "metadata": {},
   "outputs": [],
   "source": [
    "rex = re.compile(r'[A-Za-z ]{3,}')"
   ]
  },
  {
   "cell_type": "code",
   "execution_count": 18,
   "metadata": {},
   "outputs": [],
   "source": [
    "keywords = []\n",
    "for vid in vacancies['id']:\n",
    "    response = requests.get(\n",
    "        BASE_URL + '/vacancies/{vacancy_id}'.format(vacancy_id=vid),\n",
    "        headers={'User-Agent': generate_user_agent()},\n",
    "    )\n",
    "    text = response.json()['description']\n",
    "    text = BeautifulSoup(text, 'html.parser').get_text()\n",
    "    keywords.extend(rex.findall(text))"
   ]
  },
  {
   "cell_type": "code",
   "execution_count": 19,
   "metadata": {},
   "outputs": [],
   "source": [
    "keywords = [kw.lower().strip() for kw in keywords]\n",
    "keywords = [kw for kw in keywords if kw]"
   ]
  },
  {
   "cell_type": "code",
   "execution_count": 20,
   "metadata": {},
   "outputs": [],
   "source": [
    "keywords_dataframe = pandas.DataFrame(Counter(keywords).most_common(40), columns=['keyword', 'count'])"
   ]
  },
  {
   "cell_type": "code",
   "execution_count": 21,
   "metadata": {},
   "outputs": [
    {
     "data": {
      "text/plain": [
       "<matplotlib.axes._subplots.AxesSubplot at 0x7fbef9f7f588>"
      ]
     },
     "execution_count": 21,
     "metadata": {},
     "output_type": "execute_result"
    },
    {
     "data": {
      "image/png": "[encoded data removed]",
      "text/plain": [
       "<Figure size 1080x1080 with 1 Axes>"
      ]
     },
     "metadata": {},
     "output_type": "display_data"
    }
   ],
   "source": [
    "a4_dims = (15, 15)\n",
    "fig, ax = plt.subplots(figsize=a4_dims)\n",
    "\n",
    "seaborn.barplot(data=keywords_dataframe, x='count', y='keyword', ax=ax)"
   ]
  },
  {
   "cell_type": "markdown",
   "metadata": {},
   "source": [
    "## Company info"
   ]
  },
  {
   "cell_type": "code",
   "execution_count": 22,
   "metadata": {},
   "outputs": [],
   "source": [
    "areas = []\n",
    "cids = set()\n",
    "for cid, cname in zip(vacancies.company_id, vacancies.company):\n",
    "    # only unique requests\n",
    "    if cid in cids:\n",
    "        continue\n",
    "    cids.add(cid)\n",
    "\n",
    "    # retrieve\n",
    "    params = dict(\n",
    "        employer_id=cid,\n",
    "        area=area,\n",
    "        period=30,\n",
    "        per_page=0,\n",
    "        clusters='true',\n",
    "    )\n",
    "    response = requests.get(\n",
    "        BASE_URL + '/vacancies',\n",
    "        headers={'User-Agent': generate_user_agent()},\n",
    "        params=params,\n",
    "    )\n",
    "\n",
    "    # analize clusters\n",
    "    for cluster in response.json()['clusters']:\n",
    "        if cluster['id'] == 'professional_area':\n",
    "            good = total = 0\n",
    "            for item in cluster['items']:\n",
    "                if item['name'] == 'Информационные технологии, интернет, телеком':\n",
    "                    good += item['count']\n",
    "                total += item['count']\n",
    "            areas.append(dict(\n",
    "                company=cname,\n",
    "                company_id=cid,\n",
    "                count=total,\n",
    "                rate=good / total\n",
    "            ))"
   ]
  },
  {
   "cell_type": "code",
   "execution_count": 23,
   "metadata": {},
   "outputs": [],
   "source": [
    "areas_dataframe = pandas.DataFrame(areas, columns=['company', 'company_id', 'count', 'rate'])"
   ]
  },
  {
   "cell_type": "markdown",
   "metadata": {},
   "source": [
    "Mostly tech companies:"
   ]
  },
  {
   "cell_type": "code",
   "execution_count": 24,
   "metadata": {},
   "outputs": [
    {
     "data": {
      "text/html": [
       "<div>\n",
       "<style scoped>\n",
       "    .dataframe tbody tr th:only-of-type {\n",
       "        vertical-align: middle;\n",
       "    }\n",
       "\n",
       "    .dataframe tbody tr th {\n",
       "        vertical-align: top;\n",
       "    }\n",
       "\n",
       "    .dataframe thead th {\n",
       "        text-align: right;\n",
       "    }\n",
       "</style>\n",
       "<table border=\"1\" class=\"dataframe\">\n",
       "  <thead>\n",
       "    <tr style=\"text-align: right;\">\n",
       "      <th></th>\n",
       "      <th>company</th>\n",
       "      <th>company_id</th>\n",
       "      <th>count</th>\n",
       "      <th>rate</th>\n",
       "    </tr>\n",
       "  </thead>\n",
       "  <tbody>\n",
       "    <tr>\n",
       "      <th>0</th>\n",
       "      <td>Luxoft</td>\n",
       "      <td>1304</td>\n",
       "      <td>40</td>\n",
       "      <td>0.925000</td>\n",
       "    </tr>\n",
       "    <tr>\n",
       "      <th>1</th>\n",
       "      <td>БиАйЭй-Технолоджиз</td>\n",
       "      <td>2565797</td>\n",
       "      <td>37</td>\n",
       "      <td>0.864865</td>\n",
       "    </tr>\n",
       "    <tr>\n",
       "      <th>2</th>\n",
       "      <td>First Line Software</td>\n",
       "      <td>638130</td>\n",
       "      <td>20</td>\n",
       "      <td>0.850000</td>\n",
       "    </tr>\n",
       "    <tr>\n",
       "      <th>3</th>\n",
       "      <td>JetBrains</td>\n",
       "      <td>9281</td>\n",
       "      <td>81</td>\n",
       "      <td>0.814815</td>\n",
       "    </tr>\n",
       "    <tr>\n",
       "      <th>4</th>\n",
       "      <td>OpenWay Group</td>\n",
       "      <td>4156</td>\n",
       "      <td>15</td>\n",
       "      <td>0.800000</td>\n",
       "    </tr>\n",
       "    <tr>\n",
       "      <th>5</th>\n",
       "      <td>EPAM Systems, Inc.</td>\n",
       "      <td>6769</td>\n",
       "      <td>44</td>\n",
       "      <td>0.750000</td>\n",
       "    </tr>\n",
       "    <tr>\n",
       "      <th>6</th>\n",
       "      <td>Wargaming</td>\n",
       "      <td>662769</td>\n",
       "      <td>38</td>\n",
       "      <td>0.657895</td>\n",
       "    </tr>\n",
       "    <tr>\n",
       "      <th>7</th>\n",
       "      <td>SEMrush</td>\n",
       "      <td>789662</td>\n",
       "      <td>61</td>\n",
       "      <td>0.639344</td>\n",
       "    </tr>\n",
       "    <tr>\n",
       "      <th>8</th>\n",
       "      <td>i-FREE</td>\n",
       "      <td>18062</td>\n",
       "      <td>35</td>\n",
       "      <td>0.571429</td>\n",
       "    </tr>\n",
       "    <tr>\n",
       "      <th>9</th>\n",
       "      <td>Softline</td>\n",
       "      <td>2381</td>\n",
       "      <td>28</td>\n",
       "      <td>0.571429</td>\n",
       "    </tr>\n",
       "    <tr>\n",
       "      <th>10</th>\n",
       "      <td>EXANTE</td>\n",
       "      <td>597423</td>\n",
       "      <td>7</td>\n",
       "      <td>0.571429</td>\n",
       "    </tr>\n",
       "    <tr>\n",
       "      <th>11</th>\n",
       "      <td>ЦИАН ГРУПП</td>\n",
       "      <td>1429999</td>\n",
       "      <td>14</td>\n",
       "      <td>0.500000</td>\n",
       "    </tr>\n",
       "    <tr>\n",
       "      <th>12</th>\n",
       "      <td>Investex Ltd</td>\n",
       "      <td>3192431</td>\n",
       "      <td>4</td>\n",
       "      <td>0.500000</td>\n",
       "    </tr>\n",
       "  </tbody>\n",
       "</table>\n",
       "</div>"
      ],
      "text/plain": [
       "                company company_id  count      rate\n",
       "0                Luxoft       1304     40  0.925000\n",
       "1    БиАйЭй-Технолоджиз    2565797     37  0.864865\n",
       "2   First Line Software     638130     20  0.850000\n",
       "3             JetBrains       9281     81  0.814815\n",
       "4         OpenWay Group       4156     15  0.800000\n",
       "5    EPAM Systems, Inc.       6769     44  0.750000\n",
       "6             Wargaming     662769     38  0.657895\n",
       "7               SEMrush     789662     61  0.639344\n",
       "8                i-FREE      18062     35  0.571429\n",
       "9              Softline       2381     28  0.571429\n",
       "10               EXANTE     597423      7  0.571429\n",
       "11           ЦИАН ГРУПП    1429999     14  0.500000\n",
       "12         Investex Ltd    3192431      4  0.500000"
      ]
     },
     "execution_count": 24,
     "metadata": {},
     "output_type": "execute_result"
    }
   ],
   "source": [
    "areas_dataframe = areas_dataframe.sort_values(by='rate', ascending=False)\n",
    "areas_dataframe = areas_dataframe.reset_index()\n",
    "areas_dataframe = areas_dataframe.drop('index', 1)\n",
    "areas_dataframe[areas_dataframe.rate >= .5]"
   ]
  },
  {
   "cell_type": "code",
   "execution_count": 25,
   "metadata": {},
   "outputs": [
    {
     "data": {
      "text/plain": [
       "<matplotlib.axes._subplots.AxesSubplot at 0x7fbef9ecc7f0>"
      ]
     },
     "execution_count": 25,
     "metadata": {},
     "output_type": "execute_result"
    },
    {
     "data": {
      "image/png": "[encoded data removed]",
      "text/plain": [
       "<Figure size 432x288 with 1 Axes>"
      ]
     },
     "metadata": {},
     "output_type": "display_data"
    }
   ],
   "source": [
    "seaborn.boxplot(areas_dataframe.rate)"
   ]
  },
  {
   "cell_type": "markdown",
   "metadata": {},
   "source": [
    "# One company info"
   ]
  },
  {
   "cell_type": "code",
   "execution_count": 26,
   "metadata": {},
   "outputs": [],
   "source": [
    "cid = areas_dataframe.company_id[0]"
   ]
  },
  {
   "cell_type": "code",
   "execution_count": 27,
   "metadata": {},
   "outputs": [
    {
     "data": {
      "text/html": [
       "<div>\n",
       "<style scoped>\n",
       "    .dataframe tbody tr th:only-of-type {\n",
       "        vertical-align: middle;\n",
       "    }\n",
       "\n",
       "    .dataframe tbody tr th {\n",
       "        vertical-align: top;\n",
       "    }\n",
       "\n",
       "    .dataframe thead th {\n",
       "        text-align: right;\n",
       "    }\n",
       "</style>\n",
       "<table border=\"1\" class=\"dataframe\">\n",
       "  <thead>\n",
       "    <tr style=\"text-align: right;\">\n",
       "      <th></th>\n",
       "      <th>company</th>\n",
       "      <th>company_id</th>\n",
       "      <th>count</th>\n",
       "      <th>rate</th>\n",
       "    </tr>\n",
       "  </thead>\n",
       "  <tbody>\n",
       "    <tr>\n",
       "      <th>0</th>\n",
       "      <td>Luxoft</td>\n",
       "      <td>1304</td>\n",
       "      <td>40</td>\n",
       "      <td>0.925</td>\n",
       "    </tr>\n",
       "  </tbody>\n",
       "</table>\n",
       "</div>"
      ],
      "text/plain": [
       "  company company_id  count   rate\n",
       "0  Luxoft       1304     40  0.925"
      ]
     },
     "execution_count": 27,
     "metadata": {},
     "output_type": "execute_result"
    }
   ],
   "source": [
    "areas_dataframe[areas_dataframe.company_id == cid]"
   ]
  },
  {
   "cell_type": "code",
   "execution_count": 28,
   "metadata": {},
   "outputs": [
    {
     "data": {
      "text/plain": [
       "<Response [200]>"
      ]
     },
     "execution_count": 28,
     "metadata": {},
     "output_type": "execute_result"
    }
   ],
   "source": [
    "# retrieve\n",
    "params = dict(\n",
    "    employer_id=cid,\n",
    "    area=area,\n",
    "    period=30, # days\n",
    "    per_page=100,\n",
    ")\n",
    "response = requests.get(\n",
    "    BASE_URL + '/vacancies',\n",
    "    headers={'User-Agent': generate_user_agent()},\n",
    "    params=params,\n",
    ")\n",
    "response"
   ]
  },
  {
   "cell_type": "code",
   "execution_count": 29,
   "metadata": {},
   "outputs": [],
   "source": [
    "company_vacancies = []\n",
    "for item in response.json()['items']:\n",
    "    company_vacancies.append(dict(\n",
    "        id=item['id'],\n",
    "        name=item['name'],\n",
    "        salary_from=item['salary']['from'] if item['salary'] else None,\n",
    "        salary_to=item['salary']['to'] if item['salary'] else None,\n",
    "        created=dateutil.parser.parse(item['published_at']),\n",
    "    ))\n",
    "\n",
    "company_vacancies = pandas.DataFrame(\n",
    "    company_vacancies,\n",
    "    columns=['id', 'name', 'salary_from', 'salary_to', 'created'],\n",
    ")"
   ]
  },
  {
   "cell_type": "code",
   "execution_count": 30,
   "metadata": {},
   "outputs": [
    {
     "data": {
      "text/html": [
       "<div>\n",
       "<style scoped>\n",
       "    .dataframe tbody tr th:only-of-type {\n",
       "        vertical-align: middle;\n",
       "    }\n",
       "\n",
       "    .dataframe tbody tr th {\n",
       "        vertical-align: top;\n",
       "    }\n",
       "\n",
       "    .dataframe thead th {\n",
       "        text-align: right;\n",
       "    }\n",
       "</style>\n",
       "<table border=\"1\" class=\"dataframe\">\n",
       "  <thead>\n",
       "    <tr style=\"text-align: right;\">\n",
       "      <th></th>\n",
       "      <th>id</th>\n",
       "      <th>name</th>\n",
       "      <th>salary_from</th>\n",
       "      <th>salary_to</th>\n",
       "      <th>created</th>\n",
       "    </tr>\n",
       "  </thead>\n",
       "  <tbody>\n",
       "    <tr>\n",
       "      <th>0</th>\n",
       "      <td>25614924</td>\n",
       "      <td>C/C++ developer</td>\n",
       "      <td>None</td>\n",
       "      <td>None</td>\n",
       "      <td>2018-04-28 12:07:02+03:00</td>\n",
       "    </tr>\n",
       "    <tr>\n",
       "      <th>1</th>\n",
       "      <td>25614538</td>\n",
       "      <td>Lead/senior angular developer</td>\n",
       "      <td>None</td>\n",
       "      <td>None</td>\n",
       "      <td>2018-04-28 11:52:33+03:00</td>\n",
       "    </tr>\n",
       "    <tr>\n",
       "      <th>2</th>\n",
       "      <td>25614274</td>\n",
       "      <td>C / C++ developer</td>\n",
       "      <td>None</td>\n",
       "      <td>None</td>\n",
       "      <td>2018-04-28 11:45:41+03:00</td>\n",
       "    </tr>\n",
       "    <tr>\n",
       "      <th>3</th>\n",
       "      <td>25614246</td>\n",
       "      <td>Senior Project Manager</td>\n",
       "      <td>None</td>\n",
       "      <td>None</td>\n",
       "      <td>2018-04-28 11:44:04+03:00</td>\n",
       "    </tr>\n",
       "    <tr>\n",
       "      <th>4</th>\n",
       "      <td>25614199</td>\n",
       "      <td>Senior 3D plugin developer</td>\n",
       "      <td>None</td>\n",
       "      <td>None</td>\n",
       "      <td>2018-04-28 11:42:30+03:00</td>\n",
       "    </tr>\n",
       "    <tr>\n",
       "      <th>5</th>\n",
       "      <td>25614181</td>\n",
       "      <td>GPU GCN developer</td>\n",
       "      <td>None</td>\n",
       "      <td>None</td>\n",
       "      <td>2018-04-28 11:41:57+03:00</td>\n",
       "    </tr>\n",
       "    <tr>\n",
       "      <th>6</th>\n",
       "      <td>25614170</td>\n",
       "      <td>Senior java developer</td>\n",
       "      <td>None</td>\n",
       "      <td>None</td>\n",
       "      <td>2018-04-28 11:41:25+03:00</td>\n",
       "    </tr>\n",
       "    <tr>\n",
       "      <th>7</th>\n",
       "      <td>25614126</td>\n",
       "      <td>Test Automation developer</td>\n",
       "      <td>None</td>\n",
       "      <td>None</td>\n",
       "      <td>2018-04-28 11:39:39+03:00</td>\n",
       "    </tr>\n",
       "    <tr>\n",
       "      <th>8</th>\n",
       "      <td>25614120</td>\n",
       "      <td>Senior JS / Angular4 developer</td>\n",
       "      <td>None</td>\n",
       "      <td>None</td>\n",
       "      <td>2018-04-28 11:39:16+03:00</td>\n",
       "    </tr>\n",
       "    <tr>\n",
       "      <th>9</th>\n",
       "      <td>25614116</td>\n",
       "      <td>Fullstack Senior ASP.NET Core + Angular developer</td>\n",
       "      <td>None</td>\n",
       "      <td>None</td>\n",
       "      <td>2018-04-28 11:39:04+03:00</td>\n",
       "    </tr>\n",
       "  </tbody>\n",
       "</table>\n",
       "</div>"
      ],
      "text/plain": [
       "         id                                               name salary_from  \\\n",
       "0  25614924                                    C/C++ developer        None   \n",
       "1  25614538                      Lead/senior angular developer        None   \n",
       "2  25614274                                  C / C++ developer        None   \n",
       "3  25614246                             Senior Project Manager        None   \n",
       "4  25614199                         Senior 3D plugin developer        None   \n",
       "5  25614181                                  GPU GCN developer        None   \n",
       "6  25614170                              Senior java developer        None   \n",
       "7  25614126                          Test Automation developer        None   \n",
       "8  25614120                     Senior JS / Angular4 developer        None   \n",
       "9  25614116  Fullstack Senior ASP.NET Core + Angular developer        None   \n",
       "\n",
       "  salary_to                   created  \n",
       "0      None 2018-04-28 12:07:02+03:00  \n",
       "1      None 2018-04-28 11:52:33+03:00  \n",
       "2      None 2018-04-28 11:45:41+03:00  \n",
       "3      None 2018-04-28 11:44:04+03:00  \n",
       "4      None 2018-04-28 11:42:30+03:00  \n",
       "5      None 2018-04-28 11:41:57+03:00  \n",
       "6      None 2018-04-28 11:41:25+03:00  \n",
       "7      None 2018-04-28 11:39:39+03:00  \n",
       "8      None 2018-04-28 11:39:16+03:00  \n",
       "9      None 2018-04-28 11:39:04+03:00  "
      ]
     },
     "execution_count": 30,
     "metadata": {},
     "output_type": "execute_result"
    }
   ],
   "source": [
    "company_vacancies.head(10)"
   ]
  },
  {
   "cell_type": "code",
   "execution_count": 31,
   "metadata": {},
   "outputs": [
    {
     "data": {
      "text/plain": [
       "id             39\n",
       "name           39\n",
       "salary_from     0\n",
       "salary_to       0\n",
       "created        39\n",
       "dtype: int64"
      ]
     },
     "execution_count": 31,
     "metadata": {},
     "output_type": "execute_result"
    }
   ],
   "source": [
    "company_vacancies.count()"
   ]
  },
  {
   "cell_type": "code",
   "execution_count": 32,
   "metadata": {},
   "outputs": [],
   "source": [
    "company_vacancies['weekday'] = company_vacancies['created'].apply(lambda x: x.weekday() + 1)\n",
    "company_vacancies['hour'] = company_vacancies['created'].apply(lambda x: x.hour)"
   ]
  },
  {
   "cell_type": "code",
   "execution_count": 33,
   "metadata": {},
   "outputs": [
    {
     "data": {
      "text/plain": [
       "<matplotlib.axes._subplots.AxesSubplot at 0x7fbef9e81e10>"
      ]
     },
     "execution_count": 33,
     "metadata": {},
     "output_type": "execute_result"
    },
    {
     "data": {
      "image/png": "[encoded data removed]",
      "text/plain": [
       "<Figure size 432x288 with 1 Axes>"
      ]
     },
     "metadata": {},
     "output_type": "display_data"
    }
   ],
   "source": [
    "seaborn.countplot(company_vacancies.weekday)"
   ]
  },
  {
   "cell_type": "code",
   "execution_count": 34,
   "metadata": {},
   "outputs": [
    {
     "data": {
      "text/plain": [
       "<matplotlib.axes._subplots.AxesSubplot at 0x7fbef9e99d68>"
      ]
     },
     "execution_count": 34,
     "metadata": {},
     "output_type": "execute_result"
    },
    {
     "data": {
      "image/png": "[encoded data removed]",
      "text/plain": [
       "<Figure size 432x288 with 1 Axes>"
      ]
     },
     "metadata": {},
     "output_type": "display_data"
    }
   ],
   "source": [
    "seaborn.countplot(company_vacancies.hour)"
   ]
  },
  {
   "cell_type": "code",
   "execution_count": 35,
   "metadata": {},
   "outputs": [
    {
     "data": {
      "text/plain": [
       "(nan, nan)"
      ]
     },
     "execution_count": 35,
     "metadata": {},
     "output_type": "execute_result"
    }
   ],
   "source": [
    "sfrom = company_vacancies[company_vacancies.salary_from > 10000].salary_from.min()\n",
    "sto = company_vacancies.salary_to.min()\n",
    "\n",
    "sfrom, sto"
   ]
  },
  {
   "cell_type": "code",
   "execution_count": 36,
   "metadata": {},
   "outputs": [
    {
     "data": {
      "text/plain": [
       "<matplotlib.axes._subplots.AxesSubplot at 0x7fbef9df81d0>"
      ]
     },
     "execution_count": 36,
     "metadata": {},
     "output_type": "execute_result"
    },
    {
     "data": {
      "image/png": "[encoded data removed]",
      "text/plain": [
       "<Figure size 432x288 with 1 Axes>"
      ]
     },
     "metadata": {},
     "output_type": "display_data"
    }
   ],
   "source": [
    "def avg_salary(row):\n",
    "    if pandas.isnull(row.salary_from) or row.salary_from < 10000:\n",
    "        f = sfrom\n",
    "    else:\n",
    "        f = row.salary_from\n",
    "    if pandas.isnull(row.salary_to) or row.salary_to < 10000:\n",
    "        t = sto\n",
    "    else:\n",
    "        t = row.salary_to\n",
    "    return float(f + t) / 2\n",
    "\n",
    "seaborn.boxplot(company_vacancies.apply(avg_salary, axis=1))"
   ]
  },
  {
   "cell_type": "code",
   "execution_count": null,
   "metadata": {},
   "outputs": [],
   "source": []
  }
 ],
 "metadata": {
  "kernelspec": {
   "display_name": "Python 3",
   "language": "python",
   "name": "python3"
  },
  "language_info": {
   "codemirror_mode": {
    "name": "ipython",
    "version": 3
   },
   "file_extension": ".py",
   "mimetype": "text/x-python",
   "name": "python",
   "nbconvert_exporter": "python",
   "pygments_lexer": "ipython3",
   "version": "3.5.2"
  }
 },
 "nbformat": 4,
 "nbformat_minor": 2
}
