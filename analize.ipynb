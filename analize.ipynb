{
 "cells": [
  {
   "cell_type": "code",
   "execution_count": 1,
   "metadata": {},
   "outputs": [],
   "source": [
    "import dateutil\n",
    "import matplotlib.pyplot as plt\n",
    "import pandas\n",
    "import re\n",
    "import requests\n",
    "import seaborn\n",
    "\n",
    "from collections import Counter\n",
    "from datetime import datetime\n",
    "from user_agent import generate_user_agent\n",
    "from bs4 import BeautifulSoup"
   ]
  },
  {
   "cell_type": "code",
   "execution_count": 2,
   "metadata": {},
   "outputs": [],
   "source": [
    "keyword = 'Django'\n",
    "area = 2  # 1 - MSK, 2 - SPB\n",
    "salary = 120 * 1000  # RUR"
   ]
  },
  {
   "cell_type": "code",
   "execution_count": 3,
   "metadata": {},
   "outputs": [],
   "source": [
    "BASE_URL = 'https://api.hh.ru'"
   ]
  },
  {
   "cell_type": "code",
   "execution_count": 4,
   "metadata": {},
   "outputs": [
    {
     "data": {
      "text/plain": [
       "<Response [200]>"
      ]
     },
     "execution_count": 4,
     "metadata": {},
     "output_type": "execute_result"
    }
   ],
   "source": [
    "params = dict(\n",
    "    order_by='salary_desc',\n",
    "    text=keyword,\n",
    "    area=area,\n",
    "    period=30, # days\n",
    "    per_page=100,\n",
    "    no_magic='false',  # disable magic\n",
    "    vacancy_search_fields='description',  # available: name, description, company_name\n",
    ")\n",
    "response = requests.get(\n",
    "    BASE_URL + '/vacancies',\n",
    "    headers={'User-Agent': generate_user_agent()},\n",
    "    params=params,\n",
    ")\n",
    "response"
   ]
  },
  {
   "cell_type": "markdown",
   "metadata": {},
   "source": [
    "## Main info"
   ]
  },
  {
   "cell_type": "code",
   "execution_count": 5,
   "metadata": {},
   "outputs": [],
   "source": [
    "items = response.json()['items']\n",
    "vacancies = []\n",
    "for item in items:\n",
    "    vacancies.append(dict(\n",
    "        id=item['id'],\n",
    "        name=item['name'],\n",
    "        salary_from=item['salary']['from'] if item['salary'] else None,\n",
    "        salary_to=item['salary']['to'] if item['salary'] else None,\n",
    "        created=item['published_at'],\n",
    "        company=item['employer']['name'],\n",
    "        company_id=item['employer']['id'],\n",
    "    ))\n",
    "\n",
    "vacancies = pandas.DataFrame(\n",
    "    vacancies,\n",
    "    columns=['id', 'name', 'salary_from', 'salary_to', 'created', 'company_id', 'company'],\n",
    ")"
   ]
  },
  {
   "cell_type": "code",
   "execution_count": 6,
   "metadata": {},
   "outputs": [
    {
     "data": {
      "text/html": [
       "<div>\n",
       "<style scoped>\n",
       "    .dataframe tbody tr th:only-of-type {\n",
       "        vertical-align: middle;\n",
       "    }\n",
       "\n",
       "    .dataframe tbody tr th {\n",
       "        vertical-align: top;\n",
       "    }\n",
       "\n",
       "    .dataframe thead th {\n",
       "        text-align: right;\n",
       "    }\n",
       "</style>\n",
       "<table border=\"1\" class=\"dataframe\">\n",
       "  <thead>\n",
       "    <tr style=\"text-align: right;\">\n",
       "      <th></th>\n",
       "      <th>id</th>\n",
       "      <th>name</th>\n",
       "      <th>salary_from</th>\n",
       "      <th>salary_to</th>\n",
       "      <th>created</th>\n",
       "      <th>company_id</th>\n",
       "      <th>company</th>\n",
       "    </tr>\n",
       "  </thead>\n",
       "  <tbody>\n",
       "    <tr>\n",
       "      <th>0</th>\n",
       "      <td>21072095</td>\n",
       "      <td>Senior Backend Developer (Кипр)</td>\n",
       "      <td>3000.0</td>\n",
       "      <td>NaN</td>\n",
       "      <td>2018-04-03T13:00:40+0300</td>\n",
       "      <td>1818108</td>\n",
       "      <td>IBIT</td>\n",
       "    </tr>\n",
       "    <tr>\n",
       "      <th>1</th>\n",
       "      <td>24827105</td>\n",
       "      <td>Back-End Web Developer (Python)</td>\n",
       "      <td>200000.0</td>\n",
       "      <td>300000.0</td>\n",
       "      <td>2018-04-14T16:02:17+0300</td>\n",
       "      <td>1738507</td>\n",
       "      <td>Soshace</td>\n",
       "    </tr>\n",
       "    <tr>\n",
       "      <th>2</th>\n",
       "      <td>22056926</td>\n",
       "      <td>Senior Software Developer (PyCharm)</td>\n",
       "      <td>180000.0</td>\n",
       "      <td>NaN</td>\n",
       "      <td>2018-04-09T18:34:04+0300</td>\n",
       "      <td>9281</td>\n",
       "      <td>JetBrains</td>\n",
       "    </tr>\n",
       "    <tr>\n",
       "      <th>3</th>\n",
       "      <td>25195178</td>\n",
       "      <td>Ведущий python разработчик</td>\n",
       "      <td>170000.0</td>\n",
       "      <td>220000.0</td>\n",
       "      <td>2018-04-12T11:57:24+0300</td>\n",
       "      <td>2068941</td>\n",
       "      <td>Cindicator</td>\n",
       "    </tr>\n",
       "    <tr>\n",
       "      <th>4</th>\n",
       "      <td>24927220</td>\n",
       "      <td>Senior Web Developer (Python/Django)</td>\n",
       "      <td>2000.0</td>\n",
       "      <td>3000.0</td>\n",
       "      <td>2018-03-20T04:22:36+0300</td>\n",
       "      <td>3192431</td>\n",
       "      <td>Investex Ltd</td>\n",
       "    </tr>\n",
       "  </tbody>\n",
       "</table>\n",
       "</div>"
      ],
      "text/plain": [
       "         id                                  name  salary_from  salary_to  \\\n",
       "0  21072095       Senior Backend Developer (Кипр)       3000.0        NaN   \n",
       "1  24827105       Back-End Web Developer (Python)     200000.0   300000.0   \n",
       "2  22056926   Senior Software Developer (PyCharm)     180000.0        NaN   \n",
       "3  25195178            Ведущий python разработчик     170000.0   220000.0   \n",
       "4  24927220  Senior Web Developer (Python/Django)       2000.0     3000.0   \n",
       "\n",
       "                    created company_id       company  \n",
       "0  2018-04-03T13:00:40+0300    1818108          IBIT  \n",
       "1  2018-04-14T16:02:17+0300    1738507       Soshace  \n",
       "2  2018-04-09T18:34:04+0300       9281     JetBrains  \n",
       "3  2018-04-12T11:57:24+0300    2068941    Cindicator  \n",
       "4  2018-03-20T04:22:36+0300    3192431  Investex Ltd  "
      ]
     },
     "execution_count": 6,
     "metadata": {},
     "output_type": "execute_result"
    }
   ],
   "source": [
    "vacancies.head()"
   ]
  },
  {
   "cell_type": "code",
   "execution_count": 7,
   "metadata": {},
   "outputs": [],
   "source": [
    "# convert ISO string to datetime\n",
    "vacancies['created'] = vacancies['created'].apply(lambda x: dateutil.parser.parse(x))"
   ]
  },
  {
   "cell_type": "code",
   "execution_count": 8,
   "metadata": {},
   "outputs": [],
   "source": [
    "# extract weekday and publish time from vacancies\n",
    "vacancies['weekday'] = vacancies['created'].apply(lambda x: x.weekday() + 1)\n",
    "vacancies['hour'] = vacancies['created'].apply(lambda x: x.hour)"
   ]
  },
  {
   "cell_type": "code",
   "execution_count": 9,
   "metadata": {},
   "outputs": [
    {
     "data": {
      "text/html": [
       "<div>\n",
       "<style scoped>\n",
       "    .dataframe tbody tr th:only-of-type {\n",
       "        vertical-align: middle;\n",
       "    }\n",
       "\n",
       "    .dataframe tbody tr th {\n",
       "        vertical-align: top;\n",
       "    }\n",
       "\n",
       "    .dataframe thead th {\n",
       "        text-align: right;\n",
       "    }\n",
       "</style>\n",
       "<table border=\"1\" class=\"dataframe\">\n",
       "  <thead>\n",
       "    <tr style=\"text-align: right;\">\n",
       "      <th></th>\n",
       "      <th>id</th>\n",
       "      <th>name</th>\n",
       "      <th>salary_from</th>\n",
       "      <th>salary_to</th>\n",
       "      <th>created</th>\n",
       "      <th>company_id</th>\n",
       "      <th>company</th>\n",
       "      <th>weekday</th>\n",
       "      <th>hour</th>\n",
       "    </tr>\n",
       "  </thead>\n",
       "  <tbody>\n",
       "    <tr>\n",
       "      <th>0</th>\n",
       "      <td>21072095</td>\n",
       "      <td>Senior Backend Developer (Кипр)</td>\n",
       "      <td>3000.0</td>\n",
       "      <td>NaN</td>\n",
       "      <td>2018-04-03 13:00:40+03:00</td>\n",
       "      <td>1818108</td>\n",
       "      <td>IBIT</td>\n",
       "      <td>2</td>\n",
       "      <td>13</td>\n",
       "    </tr>\n",
       "    <tr>\n",
       "      <th>1</th>\n",
       "      <td>24827105</td>\n",
       "      <td>Back-End Web Developer (Python)</td>\n",
       "      <td>200000.0</td>\n",
       "      <td>300000.0</td>\n",
       "      <td>2018-04-14 16:02:17+03:00</td>\n",
       "      <td>1738507</td>\n",
       "      <td>Soshace</td>\n",
       "      <td>6</td>\n",
       "      <td>16</td>\n",
       "    </tr>\n",
       "    <tr>\n",
       "      <th>2</th>\n",
       "      <td>22056926</td>\n",
       "      <td>Senior Software Developer (PyCharm)</td>\n",
       "      <td>180000.0</td>\n",
       "      <td>NaN</td>\n",
       "      <td>2018-04-09 18:34:04+03:00</td>\n",
       "      <td>9281</td>\n",
       "      <td>JetBrains</td>\n",
       "      <td>1</td>\n",
       "      <td>18</td>\n",
       "    </tr>\n",
       "    <tr>\n",
       "      <th>3</th>\n",
       "      <td>25195178</td>\n",
       "      <td>Ведущий python разработчик</td>\n",
       "      <td>170000.0</td>\n",
       "      <td>220000.0</td>\n",
       "      <td>2018-04-12 11:57:24+03:00</td>\n",
       "      <td>2068941</td>\n",
       "      <td>Cindicator</td>\n",
       "      <td>4</td>\n",
       "      <td>11</td>\n",
       "    </tr>\n",
       "    <tr>\n",
       "      <th>4</th>\n",
       "      <td>24927220</td>\n",
       "      <td>Senior Web Developer (Python/Django)</td>\n",
       "      <td>2000.0</td>\n",
       "      <td>3000.0</td>\n",
       "      <td>2018-03-20 04:22:36+03:00</td>\n",
       "      <td>3192431</td>\n",
       "      <td>Investex Ltd</td>\n",
       "      <td>2</td>\n",
       "      <td>4</td>\n",
       "    </tr>\n",
       "  </tbody>\n",
       "</table>\n",
       "</div>"
      ],
      "text/plain": [
       "         id                                  name  salary_from  salary_to  \\\n",
       "0  21072095       Senior Backend Developer (Кипр)       3000.0        NaN   \n",
       "1  24827105       Back-End Web Developer (Python)     200000.0   300000.0   \n",
       "2  22056926   Senior Software Developer (PyCharm)     180000.0        NaN   \n",
       "3  25195178            Ведущий python разработчик     170000.0   220000.0   \n",
       "4  24927220  Senior Web Developer (Python/Django)       2000.0     3000.0   \n",
       "\n",
       "                    created company_id       company  weekday  hour  \n",
       "0 2018-04-03 13:00:40+03:00    1818108          IBIT        2    13  \n",
       "1 2018-04-14 16:02:17+03:00    1738507       Soshace        6    16  \n",
       "2 2018-04-09 18:34:04+03:00       9281     JetBrains        1    18  \n",
       "3 2018-04-12 11:57:24+03:00    2068941    Cindicator        4    11  \n",
       "4 2018-03-20 04:22:36+03:00    3192431  Investex Ltd        2     4  "
      ]
     },
     "execution_count": 9,
     "metadata": {},
     "output_type": "execute_result"
    }
   ],
   "source": [
    "vacancies.head()"
   ]
  },
  {
   "cell_type": "code",
   "execution_count": 10,
   "metadata": {},
   "outputs": [
    {
     "data": {
      "text/html": [
       "<div>\n",
       "<style scoped>\n",
       "    .dataframe tbody tr th:only-of-type {\n",
       "        vertical-align: middle;\n",
       "    }\n",
       "\n",
       "    .dataframe tbody tr th {\n",
       "        vertical-align: top;\n",
       "    }\n",
       "\n",
       "    .dataframe thead th {\n",
       "        text-align: right;\n",
       "    }\n",
       "</style>\n",
       "<table border=\"1\" class=\"dataframe\">\n",
       "  <thead>\n",
       "    <tr style=\"text-align: right;\">\n",
       "      <th></th>\n",
       "      <th>salary_from</th>\n",
       "      <th>salary_to</th>\n",
       "      <th>weekday</th>\n",
       "      <th>hour</th>\n",
       "    </tr>\n",
       "  </thead>\n",
       "  <tbody>\n",
       "    <tr>\n",
       "      <th>count</th>\n",
       "      <td>31.000000</td>\n",
       "      <td>19.000000</td>\n",
       "      <td>61.000000</td>\n",
       "      <td>61.000000</td>\n",
       "    </tr>\n",
       "    <tr>\n",
       "      <th>mean</th>\n",
       "      <td>92806.451613</td>\n",
       "      <td>129000.000000</td>\n",
       "      <td>3.409836</td>\n",
       "      <td>14.065574</td>\n",
       "    </tr>\n",
       "    <tr>\n",
       "      <th>std</th>\n",
       "      <td>55269.291869</td>\n",
       "      <td>79499.825297</td>\n",
       "      <td>1.883056</td>\n",
       "      <td>3.991110</td>\n",
       "    </tr>\n",
       "    <tr>\n",
       "      <th>min</th>\n",
       "      <td>1000.000000</td>\n",
       "      <td>3000.000000</td>\n",
       "      <td>1.000000</td>\n",
       "      <td>1.000000</td>\n",
       "    </tr>\n",
       "    <tr>\n",
       "      <th>25%</th>\n",
       "      <td>60000.000000</td>\n",
       "      <td>72500.000000</td>\n",
       "      <td>2.000000</td>\n",
       "      <td>11.000000</td>\n",
       "    </tr>\n",
       "    <tr>\n",
       "      <th>50%</th>\n",
       "      <td>95000.000000</td>\n",
       "      <td>120000.000000</td>\n",
       "      <td>4.000000</td>\n",
       "      <td>14.000000</td>\n",
       "    </tr>\n",
       "    <tr>\n",
       "      <th>75%</th>\n",
       "      <td>130000.000000</td>\n",
       "      <td>200000.000000</td>\n",
       "      <td>5.000000</td>\n",
       "      <td>17.000000</td>\n",
       "    </tr>\n",
       "    <tr>\n",
       "      <th>max</th>\n",
       "      <td>200000.000000</td>\n",
       "      <td>300000.000000</td>\n",
       "      <td>7.000000</td>\n",
       "      <td>22.000000</td>\n",
       "    </tr>\n",
       "  </tbody>\n",
       "</table>\n",
       "</div>"
      ],
      "text/plain": [
       "         salary_from      salary_to    weekday       hour\n",
       "count      31.000000      19.000000  61.000000  61.000000\n",
       "mean    92806.451613  129000.000000   3.409836  14.065574\n",
       "std     55269.291869   79499.825297   1.883056   3.991110\n",
       "min      1000.000000    3000.000000   1.000000   1.000000\n",
       "25%     60000.000000   72500.000000   2.000000  11.000000\n",
       "50%     95000.000000  120000.000000   4.000000  14.000000\n",
       "75%    130000.000000  200000.000000   5.000000  17.000000\n",
       "max    200000.000000  300000.000000   7.000000  22.000000"
      ]
     },
     "execution_count": 10,
     "metadata": {},
     "output_type": "execute_result"
    }
   ],
   "source": [
    "vacancies.describe()"
   ]
  },
  {
   "cell_type": "code",
   "execution_count": 11,
   "metadata": {},
   "outputs": [],
   "source": [
    "%matplotlib inline"
   ]
  },
  {
   "cell_type": "markdown",
   "metadata": {},
   "source": [
    "Let's find hardest HR's days and hours"
   ]
  },
  {
   "cell_type": "code",
   "execution_count": 12,
   "metadata": {},
   "outputs": [
    {
     "data": {
      "text/plain": [
       "<matplotlib.axes._subplots.AxesSubplot at 0x7ff6ab2b9da0>"
      ]
     },
     "execution_count": 12,
     "metadata": {},
     "output_type": "execute_result"
    },
    {
     "data": {
      "image/png": "[encoded data removed]",
      "text/plain": [
       "<Figure size 432x288 with 1 Axes>"
      ]
     },
     "metadata": {},
     "output_type": "display_data"
    }
   ],
   "source": [
    "seaborn.countplot(vacancies.weekday)"
   ]
  },
  {
   "cell_type": "code",
   "execution_count": 13,
   "metadata": {},
   "outputs": [
    {
     "data": {
      "text/plain": [
       "<matplotlib.axes._subplots.AxesSubplot at 0x7ff6a91d9a90>"
      ]
     },
     "execution_count": 13,
     "metadata": {},
     "output_type": "execute_result"
    },
    {
     "data": {
      "image/png": "[encoded data removed]",
      "text/plain": [
       "<Figure size 432x288 with 1 Axes>"
      ]
     },
     "metadata": {},
     "output_type": "display_data"
    }
   ],
   "source": [
    "seaborn.countplot(vacancies.hour)"
   ]
  },
  {
   "cell_type": "markdown",
   "metadata": {},
   "source": [
    "Bad companies that work in night or holydays:"
   ]
  },
  {
   "cell_type": "code",
   "execution_count": 47,
   "metadata": {},
   "outputs": [
    {
     "data": {
      "text/html": [
       "<div>\n",
       "<style scoped>\n",
       "    .dataframe tbody tr th:only-of-type {\n",
       "        vertical-align: middle;\n",
       "    }\n",
       "\n",
       "    .dataframe tbody tr th {\n",
       "        vertical-align: top;\n",
       "    }\n",
       "\n",
       "    .dataframe thead th {\n",
       "        text-align: right;\n",
       "    }\n",
       "</style>\n",
       "<table border=\"1\" class=\"dataframe\">\n",
       "  <thead>\n",
       "    <tr style=\"text-align: right;\">\n",
       "      <th></th>\n",
       "      <th>company</th>\n",
       "      <th>weekday</th>\n",
       "      <th>hour</th>\n",
       "    </tr>\n",
       "  </thead>\n",
       "  <tbody>\n",
       "    <tr>\n",
       "      <th>4</th>\n",
       "      <td>Investex Ltd</td>\n",
       "      <td>2</td>\n",
       "      <td>4</td>\n",
       "    </tr>\n",
       "    <tr>\n",
       "      <th>20</th>\n",
       "      <td>Muzis</td>\n",
       "      <td>6</td>\n",
       "      <td>11</td>\n",
       "    </tr>\n",
       "    <tr>\n",
       "      <th>1</th>\n",
       "      <td>Soshace</td>\n",
       "      <td>6</td>\n",
       "      <td>16</td>\n",
       "    </tr>\n",
       "    <tr>\n",
       "      <th>41</th>\n",
       "      <td>Wargaming</td>\n",
       "      <td>7</td>\n",
       "      <td>12</td>\n",
       "    </tr>\n",
       "    <tr>\n",
       "      <th>17</th>\n",
       "      <td>i-FREE</td>\n",
       "      <td>4</td>\n",
       "      <td>20</td>\n",
       "    </tr>\n",
       "    <tr>\n",
       "      <th>30</th>\n",
       "      <td>АйТи-Солюшн</td>\n",
       "      <td>4</td>\n",
       "      <td>1</td>\n",
       "    </tr>\n",
       "    <tr>\n",
       "      <th>29</th>\n",
       "      <td>АппВелокс</td>\n",
       "      <td>6</td>\n",
       "      <td>22</td>\n",
       "    </tr>\n",
       "    <tr>\n",
       "      <th>6</th>\n",
       "      <td>Аэропоиск</td>\n",
       "      <td>2</td>\n",
       "      <td>22</td>\n",
       "    </tr>\n",
       "    <tr>\n",
       "      <th>27</th>\n",
       "      <td>ВЕБИМ.РУ</td>\n",
       "      <td>5</td>\n",
       "      <td>22</td>\n",
       "    </tr>\n",
       "    <tr>\n",
       "      <th>47</th>\n",
       "      <td>Доктор Веб</td>\n",
       "      <td>1</td>\n",
       "      <td>20</td>\n",
       "    </tr>\n",
       "    <tr>\n",
       "      <th>24</th>\n",
       "      <td>КАДФЕМ Си-Ай-Эс</td>\n",
       "      <td>7</td>\n",
       "      <td>11</td>\n",
       "    </tr>\n",
       "    <tr>\n",
       "      <th>45</th>\n",
       "      <td>МЕЛ Саенс</td>\n",
       "      <td>7</td>\n",
       "      <td>13</td>\n",
       "    </tr>\n",
       "    <tr>\n",
       "      <th>58</th>\n",
       "      <td>МЕЛ Саенс</td>\n",
       "      <td>7</td>\n",
       "      <td>13</td>\n",
       "    </tr>\n",
       "  </tbody>\n",
       "</table>\n",
       "</div>"
      ],
      "text/plain": [
       "            company  weekday  hour\n",
       "4      Investex Ltd        2     4\n",
       "20            Muzis        6    11\n",
       "1           Soshace        6    16\n",
       "41        Wargaming        7    12\n",
       "17           i-FREE        4    20\n",
       "30      АйТи-Солюшн        4     1\n",
       "29        АппВелокс        6    22\n",
       "6         Аэропоиск        2    22\n",
       "27         ВЕБИМ.РУ        5    22\n",
       "47       Доктор Веб        1    20\n",
       "24  КАДФЕМ Си-Ай-Эс        7    11\n",
       "45        МЕЛ Саенс        7    13\n",
       "58        МЕЛ Саенс        7    13"
      ]
     },
     "execution_count": 47,
     "metadata": {},
     "output_type": "execute_result"
    }
   ],
   "source": [
    "blacklist = vacancies[(vacancies.hour >= 20) | (vacancies.hour < 10) | (vacancies.weekday > 5)]\n",
    "blacklist.sort_values('company')[['company', 'weekday', 'hour']]"
   ]
  },
  {
   "cell_type": "markdown",
   "metadata": {},
   "source": [
    "Let's analize salaries!"
   ]
  },
  {
   "cell_type": "code",
   "execution_count": 118,
   "metadata": {},
   "outputs": [
    {
     "data": {
      "text/plain": [
       "(16000.0, 129000.0)"
      ]
     },
     "execution_count": 118,
     "metadata": {},
     "output_type": "execute_result"
    }
   ],
   "source": [
    "sfrom = vacancies[vacancies.salary_from > 10000].salary_from.min()\n",
    "sto = vacancies.salary_to.mean()\n",
    "sfrom, sto"
   ]
  },
  {
   "cell_type": "code",
   "execution_count": 119,
   "metadata": {},
   "outputs": [
    {
     "data": {
      "text/plain": [
       "<matplotlib.axes._subplots.AxesSubplot at 0x7ff6a8cf6f28>"
      ]
     },
     "execution_count": 119,
     "metadata": {},
     "output_type": "execute_result"
    },
    {
     "data": {
      "image/png": "[encoded data removed]",
      "text/plain": [
       "<Figure size 432x288 with 1 Axes>"
      ]
     },
     "metadata": {},
     "output_type": "display_data"
    }
   ],
   "source": [
    "def avg_salary(row):\n",
    "    if pandas.isnull(row.salary_from) or row.salary_from < 10000:\n",
    "        f = sfrom\n",
    "    else:\n",
    "        f = row.salary_from\n",
    "    if pandas.isnull(row.salary_to) or row.salary_to < 10000:\n",
    "        t = sto\n",
    "    else:\n",
    "        t = row.salary_to\n",
    "    return float(f + t) / 2\n",
    "\n",
    "seaborn.boxplot(vacancies.apply(avg_salary, axis=1))"
   ]
  },
  {
   "cell_type": "markdown",
   "metadata": {},
   "source": [
    "## Keywords"
   ]
  },
  {
   "cell_type": "code",
   "execution_count": 14,
   "metadata": {},
   "outputs": [],
   "source": [
    "rex = re.compile(r'[A-Za-z ]{3,}')"
   ]
  },
  {
   "cell_type": "code",
   "execution_count": 15,
   "metadata": {},
   "outputs": [],
   "source": [
    "keywords = []\n",
    "for vid in vacancies['id']:\n",
    "    response = requests.get(\n",
    "        BASE_URL + '/vacancies/{vacancy_id}'.format(vacancy_id=vid),\n",
    "        headers={'User-Agent': generate_user_agent()},\n",
    "    )\n",
    "    text = response.json()['description']\n",
    "    text = BeautifulSoup(text, 'html.parser').get_text()\n",
    "    keywords.extend(rex.findall(text))"
   ]
  },
  {
   "cell_type": "code",
   "execution_count": 16,
   "metadata": {},
   "outputs": [],
   "source": [
    "keywords = [kw.lower().strip() for kw in keywords]\n",
    "keywords = [kw for kw in keywords if kw]"
   ]
  },
  {
   "cell_type": "code",
   "execution_count": 17,
   "metadata": {},
   "outputs": [],
   "source": [
    "keywords_dataframe = pandas.DataFrame(Counter(keywords).most_common(40), columns=['keyword', 'count'])"
   ]
  },
  {
   "cell_type": "code",
   "execution_count": 18,
   "metadata": {},
   "outputs": [
    {
     "data": {
      "text/plain": [
       "<matplotlib.axes._subplots.AxesSubplot at 0x7ff6a9149898>"
      ]
     },
     "execution_count": 18,
     "metadata": {},
     "output_type": "execute_result"
    },
    {
     "data": {
      "image/png": "[encoded data removed]",
      "text/plain": [
       "<Figure size 1080x1080 with 1 Axes>"
      ]
     },
     "metadata": {},
     "output_type": "display_data"
    }
   ],
   "source": [
    "a4_dims = (15, 15)\n",
    "fig, ax = plt.subplots(figsize=a4_dims)\n",
    "\n",
    "seaborn.barplot(data=keywords_dataframe, x='count', y='keyword', ax=ax)"
   ]
  },
  {
   "cell_type": "markdown",
   "metadata": {},
   "source": [
    "## Company info"
   ]
  },
  {
   "cell_type": "code",
   "execution_count": 48,
   "metadata": {},
   "outputs": [],
   "source": [
    "areas = []\n",
    "cids = set()\n",
    "for cid, cname in zip(vacancies.company_id, vacancies.company):\n",
    "    # only unique requests\n",
    "    if cid in cids:\n",
    "        continue\n",
    "    cids.add(cid)\n",
    "\n",
    "    # retrieve\n",
    "    params = dict(\n",
    "        employer_id=cid,\n",
    "        area=area,\n",
    "        period=30,\n",
    "        per_page=0,\n",
    "        clusters='true',\n",
    "    )\n",
    "    response = requests.get(\n",
    "        BASE_URL + '/vacancies',\n",
    "        headers={'User-Agent': generate_user_agent()},\n",
    "        params=params,\n",
    "    )\n",
    "\n",
    "    # analize clusters\n",
    "    for cluster in response.json()['clusters']:\n",
    "        if cluster['id'] == 'professional_area':\n",
    "            good = total = 0\n",
    "            for item in cluster['items']:\n",
    "                if item['name'] == 'Информационные технологии, интернет, телеком':\n",
    "                    good += item['count']\n",
    "                total += item['count']\n",
    "            areas.append(dict(\n",
    "                company=cname,\n",
    "                company_id=cid,\n",
    "                count=total,\n",
    "                rate=good / total\n",
    "            ))"
   ]
  },
  {
   "cell_type": "code",
   "execution_count": 140,
   "metadata": {},
   "outputs": [],
   "source": [
    "areas_dataframe = pandas.DataFrame(areas, columns=['company', 'company_id', 'count', 'rate'])"
   ]
  },
  {
   "cell_type": "markdown",
   "metadata": {},
   "source": [
    "Mostly tech companies:"
   ]
  },
  {
   "cell_type": "code",
   "execution_count": 141,
   "metadata": {},
   "outputs": [
    {
     "data": {
      "text/html": [
       "<div>\n",
       "<style scoped>\n",
       "    .dataframe tbody tr th:only-of-type {\n",
       "        vertical-align: middle;\n",
       "    }\n",
       "\n",
       "    .dataframe tbody tr th {\n",
       "        vertical-align: top;\n",
       "    }\n",
       "\n",
       "    .dataframe thead th {\n",
       "        text-align: right;\n",
       "    }\n",
       "</style>\n",
       "<table border=\"1\" class=\"dataframe\">\n",
       "  <thead>\n",
       "    <tr style=\"text-align: right;\">\n",
       "      <th></th>\n",
       "      <th>company</th>\n",
       "      <th>company_id</th>\n",
       "      <th>count</th>\n",
       "      <th>rate</th>\n",
       "    </tr>\n",
       "  </thead>\n",
       "  <tbody>\n",
       "    <tr>\n",
       "      <th>0</th>\n",
       "      <td>Luxoft</td>\n",
       "      <td>1304</td>\n",
       "      <td>22</td>\n",
       "      <td>0.954545</td>\n",
       "    </tr>\n",
       "    <tr>\n",
       "      <th>1</th>\n",
       "      <td>JetBrains</td>\n",
       "      <td>9281</td>\n",
       "      <td>68</td>\n",
       "      <td>0.882353</td>\n",
       "    </tr>\n",
       "    <tr>\n",
       "      <th>2</th>\n",
       "      <td>DataArt</td>\n",
       "      <td>69961</td>\n",
       "      <td>16</td>\n",
       "      <td>0.875000</td>\n",
       "    </tr>\n",
       "    <tr>\n",
       "      <th>3</th>\n",
       "      <td>First Line Software</td>\n",
       "      <td>638130</td>\n",
       "      <td>22</td>\n",
       "      <td>0.863636</td>\n",
       "    </tr>\n",
       "    <tr>\n",
       "      <th>4</th>\n",
       "      <td>НИИ МАСШТАБ</td>\n",
       "      <td>841097</td>\n",
       "      <td>21</td>\n",
       "      <td>0.809524</td>\n",
       "    </tr>\n",
       "    <tr>\n",
       "      <th>5</th>\n",
       "      <td>БиАйЭй-Технолоджиз</td>\n",
       "      <td>2565797</td>\n",
       "      <td>51</td>\n",
       "      <td>0.803922</td>\n",
       "    </tr>\n",
       "    <tr>\n",
       "      <th>6</th>\n",
       "      <td>TradingView</td>\n",
       "      <td>1235972</td>\n",
       "      <td>12</td>\n",
       "      <td>0.666667</td>\n",
       "    </tr>\n",
       "    <tr>\n",
       "      <th>7</th>\n",
       "      <td>SEMrush</td>\n",
       "      <td>789662</td>\n",
       "      <td>63</td>\n",
       "      <td>0.650794</td>\n",
       "    </tr>\n",
       "    <tr>\n",
       "      <th>8</th>\n",
       "      <td>Cindicator</td>\n",
       "      <td>2068941</td>\n",
       "      <td>14</td>\n",
       "      <td>0.642857</td>\n",
       "    </tr>\n",
       "    <tr>\n",
       "      <th>9</th>\n",
       "      <td>ЦИАН ГРУПП</td>\n",
       "      <td>1429999</td>\n",
       "      <td>11</td>\n",
       "      <td>0.636364</td>\n",
       "    </tr>\n",
       "    <tr>\n",
       "      <th>10</th>\n",
       "      <td>i-FREE</td>\n",
       "      <td>18062</td>\n",
       "      <td>30</td>\n",
       "      <td>0.600000</td>\n",
       "    </tr>\n",
       "    <tr>\n",
       "      <th>11</th>\n",
       "      <td>Wargaming</td>\n",
       "      <td>662769</td>\n",
       "      <td>44</td>\n",
       "      <td>0.590909</td>\n",
       "    </tr>\n",
       "    <tr>\n",
       "      <th>12</th>\n",
       "      <td>SMART HR</td>\n",
       "      <td>2389305</td>\n",
       "      <td>17</td>\n",
       "      <td>0.529412</td>\n",
       "    </tr>\n",
       "    <tr>\n",
       "      <th>13</th>\n",
       "      <td>QuantNet</td>\n",
       "      <td>3195300</td>\n",
       "      <td>4</td>\n",
       "      <td>0.500000</td>\n",
       "    </tr>\n",
       "    <tr>\n",
       "      <th>14</th>\n",
       "      <td>КАДФЕМ Си-Ай-Эс</td>\n",
       "      <td>55585</td>\n",
       "      <td>2</td>\n",
       "      <td>0.500000</td>\n",
       "    </tr>\n",
       "  </tbody>\n",
       "</table>\n",
       "</div>"
      ],
      "text/plain": [
       "                company company_id  count      rate\n",
       "0                Luxoft       1304     22  0.954545\n",
       "1             JetBrains       9281     68  0.882353\n",
       "2               DataArt      69961     16  0.875000\n",
       "3   First Line Software     638130     22  0.863636\n",
       "4           НИИ МАСШТАБ     841097     21  0.809524\n",
       "5    БиАйЭй-Технолоджиз    2565797     51  0.803922\n",
       "6           TradingView    1235972     12  0.666667\n",
       "7               SEMrush     789662     63  0.650794\n",
       "8            Cindicator    2068941     14  0.642857\n",
       "9            ЦИАН ГРУПП    1429999     11  0.636364\n",
       "10               i-FREE      18062     30  0.600000\n",
       "11            Wargaming     662769     44  0.590909\n",
       "12             SMART HR    2389305     17  0.529412\n",
       "13             QuantNet    3195300      4  0.500000\n",
       "14      КАДФЕМ Си-Ай-Эс      55585      2  0.500000"
      ]
     },
     "execution_count": 141,
     "metadata": {},
     "output_type": "execute_result"
    }
   ],
   "source": [
    "areas_dataframe = areas_dataframe.sort_values(by='rate', ascending=False)\n",
    "areas_dataframe = areas_dataframe.reset_index()\n",
    "areas_dataframe = areas_dataframe.drop('index', 1)\n",
    "areas_dataframe[areas_dataframe.rate >= .5]"
   ]
  },
  {
   "cell_type": "code",
   "execution_count": 142,
   "metadata": {},
   "outputs": [
    {
     "data": {
      "text/plain": [
       "<matplotlib.axes._subplots.AxesSubplot at 0x7ff6a87b9d68>"
      ]
     },
     "execution_count": 142,
     "metadata": {},
     "output_type": "execute_result"
    },
    {
     "data": {
      "image/png": "[encoded data removed]",
      "text/plain": [
       "<Figure size 432x288 with 1 Axes>"
      ]
     },
     "metadata": {},
     "output_type": "display_data"
    }
   ],
   "source": [
    "seaborn.boxplot(areas_dataframe.rate)"
   ]
  },
  {
   "cell_type": "markdown",
   "metadata": {},
   "source": [
    "# One company info"
   ]
  },
  {
   "cell_type": "code",
   "execution_count": 188,
   "metadata": {},
   "outputs": [],
   "source": [
    "cid = areas_dataframe.company_id[12]"
   ]
  },
  {
   "cell_type": "code",
   "execution_count": 189,
   "metadata": {},
   "outputs": [
    {
     "data": {
      "text/html": [
       "<div>\n",
       "<style scoped>\n",
       "    .dataframe tbody tr th:only-of-type {\n",
       "        vertical-align: middle;\n",
       "    }\n",
       "\n",
       "    .dataframe tbody tr th {\n",
       "        vertical-align: top;\n",
       "    }\n",
       "\n",
       "    .dataframe thead th {\n",
       "        text-align: right;\n",
       "    }\n",
       "</style>\n",
       "<table border=\"1\" class=\"dataframe\">\n",
       "  <thead>\n",
       "    <tr style=\"text-align: right;\">\n",
       "      <th></th>\n",
       "      <th>company</th>\n",
       "      <th>company_id</th>\n",
       "      <th>count</th>\n",
       "      <th>rate</th>\n",
       "    </tr>\n",
       "  </thead>\n",
       "  <tbody>\n",
       "    <tr>\n",
       "      <th>12</th>\n",
       "      <td>SMART HR</td>\n",
       "      <td>2389305</td>\n",
       "      <td>17</td>\n",
       "      <td>0.529412</td>\n",
       "    </tr>\n",
       "  </tbody>\n",
       "</table>\n",
       "</div>"
      ],
      "text/plain": [
       "     company company_id  count      rate\n",
       "12  SMART HR    2389305     17  0.529412"
      ]
     },
     "execution_count": 189,
     "metadata": {},
     "output_type": "execute_result"
    }
   ],
   "source": [
    "areas_dataframe[areas_dataframe.company_id == cid]"
   ]
  },
  {
   "cell_type": "code",
   "execution_count": 190,
   "metadata": {},
   "outputs": [
    {
     "data": {
      "text/plain": [
       "<Response [200]>"
      ]
     },
     "execution_count": 190,
     "metadata": {},
     "output_type": "execute_result"
    }
   ],
   "source": [
    "# retrieve\n",
    "params = dict(\n",
    "    employer_id=cid,\n",
    "    area=area,\n",
    "    period=30, # days\n",
    "    per_page=100,\n",
    ")\n",
    "response = requests.get(\n",
    "    BASE_URL + '/vacancies',\n",
    "    headers={'User-Agent': generate_user_agent()},\n",
    "    params=params,\n",
    ")\n",
    "response"
   ]
  },
  {
   "cell_type": "code",
   "execution_count": 191,
   "metadata": {},
   "outputs": [],
   "source": [
    "company_vacancies = []\n",
    "for item in response.json()['items']:\n",
    "    company_vacancies.append(dict(\n",
    "        id=item['id'],\n",
    "        name=item['name'],\n",
    "        salary_from=item['salary']['from'] if item['salary'] else None,\n",
    "        salary_to=item['salary']['to'] if item['salary'] else None,\n",
    "        created=dateutil.parser.parse(item['published_at']),\n",
    "    ))\n",
    "\n",
    "company_vacancies = pandas.DataFrame(\n",
    "    company_vacancies,\n",
    "    columns=['id', 'name', 'salary_from', 'salary_to', 'created'],\n",
    ")"
   ]
  },
  {
   "cell_type": "code",
   "execution_count": 192,
   "metadata": {},
   "outputs": [
    {
     "data": {
      "text/html": [
       "<div>\n",
       "<style scoped>\n",
       "    .dataframe tbody tr th:only-of-type {\n",
       "        vertical-align: middle;\n",
       "    }\n",
       "\n",
       "    .dataframe tbody tr th {\n",
       "        vertical-align: top;\n",
       "    }\n",
       "\n",
       "    .dataframe thead th {\n",
       "        text-align: right;\n",
       "    }\n",
       "</style>\n",
       "<table border=\"1\" class=\"dataframe\">\n",
       "  <thead>\n",
       "    <tr style=\"text-align: right;\">\n",
       "      <th></th>\n",
       "      <th>id</th>\n",
       "      <th>name</th>\n",
       "      <th>salary_from</th>\n",
       "      <th>salary_to</th>\n",
       "      <th>created</th>\n",
       "    </tr>\n",
       "  </thead>\n",
       "  <tbody>\n",
       "    <tr>\n",
       "      <th>0</th>\n",
       "      <td>25183685</td>\n",
       "      <td>Специалист call-центра со знанием казахского я...</td>\n",
       "      <td>28000.0</td>\n",
       "      <td>35000.0</td>\n",
       "      <td>2018-04-13 11:20:09+03:00</td>\n",
       "    </tr>\n",
       "    <tr>\n",
       "      <th>1</th>\n",
       "      <td>25282847</td>\n",
       "      <td>Системный аналитик</td>\n",
       "      <td>NaN</td>\n",
       "      <td>NaN</td>\n",
       "      <td>2018-04-13 10:53:54+03:00</td>\n",
       "    </tr>\n",
       "    <tr>\n",
       "      <th>2</th>\n",
       "      <td>25376228</td>\n",
       "      <td>Интернет-маркетолог</td>\n",
       "      <td>NaN</td>\n",
       "      <td>NaN</td>\n",
       "      <td>2018-04-13 10:16:29+03:00</td>\n",
       "    </tr>\n",
       "    <tr>\n",
       "      <th>3</th>\n",
       "      <td>24967524</td>\n",
       "      <td>Интернет-маркетолог / таргетолог ( blockchain)</td>\n",
       "      <td>NaN</td>\n",
       "      <td>NaN</td>\n",
       "      <td>2018-04-12 15:44:23+03:00</td>\n",
       "    </tr>\n",
       "    <tr>\n",
       "      <th>4</th>\n",
       "      <td>25032282</td>\n",
       "      <td>Программист Python (blockchain)</td>\n",
       "      <td>NaN</td>\n",
       "      <td>NaN</td>\n",
       "      <td>2018-04-12 15:44:23+03:00</td>\n",
       "    </tr>\n",
       "    <tr>\n",
       "      <th>5</th>\n",
       "      <td>25063256</td>\n",
       "      <td>Project manager/Менеджер проекта (blockchain/б...</td>\n",
       "      <td>NaN</td>\n",
       "      <td>NaN</td>\n",
       "      <td>2018-04-12 10:06:52+03:00</td>\n",
       "    </tr>\n",
       "    <tr>\n",
       "      <th>6</th>\n",
       "      <td>24518228</td>\n",
       "      <td>Java-программист</td>\n",
       "      <td>60000.0</td>\n",
       "      <td>80000.0</td>\n",
       "      <td>2018-04-10 14:42:03+03:00</td>\n",
       "    </tr>\n",
       "    <tr>\n",
       "      <th>7</th>\n",
       "      <td>25273043</td>\n",
       "      <td>Ведущий специалист отдела финансового мониторинга</td>\n",
       "      <td>50000.0</td>\n",
       "      <td>NaN</td>\n",
       "      <td>2018-04-10 12:38:19+03:00</td>\n",
       "    </tr>\n",
       "    <tr>\n",
       "      <th>8</th>\n",
       "      <td>25316928</td>\n",
       "      <td>Ведущий системный аналитик</td>\n",
       "      <td>70000.0</td>\n",
       "      <td>80000.0</td>\n",
       "      <td>2018-04-10 11:42:22+03:00</td>\n",
       "    </tr>\n",
       "    <tr>\n",
       "      <th>9</th>\n",
       "      <td>24021515</td>\n",
       "      <td>Программист Python</td>\n",
       "      <td>100000.0</td>\n",
       "      <td>200000.0</td>\n",
       "      <td>2018-04-09 18:16:24+03:00</td>\n",
       "    </tr>\n",
       "  </tbody>\n",
       "</table>\n",
       "</div>"
      ],
      "text/plain": [
       "         id                                               name  salary_from  \\\n",
       "0  25183685  Специалист call-центра со знанием казахского я...      28000.0   \n",
       "1  25282847                                 Системный аналитик          NaN   \n",
       "2  25376228                                Интернет-маркетолог          NaN   \n",
       "3  24967524     Интернет-маркетолог / таргетолог ( blockchain)          NaN   \n",
       "4  25032282                    Программист Python (blockchain)          NaN   \n",
       "5  25063256  Project manager/Менеджер проекта (blockchain/б...          NaN   \n",
       "6  24518228                                   Java-программист      60000.0   \n",
       "7  25273043  Ведущий специалист отдела финансового мониторинга      50000.0   \n",
       "8  25316928                         Ведущий системный аналитик      70000.0   \n",
       "9  24021515                                 Программист Python     100000.0   \n",
       "\n",
       "   salary_to                   created  \n",
       "0    35000.0 2018-04-13 11:20:09+03:00  \n",
       "1        NaN 2018-04-13 10:53:54+03:00  \n",
       "2        NaN 2018-04-13 10:16:29+03:00  \n",
       "3        NaN 2018-04-12 15:44:23+03:00  \n",
       "4        NaN 2018-04-12 15:44:23+03:00  \n",
       "5        NaN 2018-04-12 10:06:52+03:00  \n",
       "6    80000.0 2018-04-10 14:42:03+03:00  \n",
       "7        NaN 2018-04-10 12:38:19+03:00  \n",
       "8    80000.0 2018-04-10 11:42:22+03:00  \n",
       "9   200000.0 2018-04-09 18:16:24+03:00  "
      ]
     },
     "execution_count": 192,
     "metadata": {},
     "output_type": "execute_result"
    }
   ],
   "source": [
    "company_vacancies.head(10)"
   ]
  },
  {
   "cell_type": "code",
   "execution_count": 193,
   "metadata": {},
   "outputs": [
    {
     "data": {
      "text/plain": [
       "id             12\n",
       "name           12\n",
       "salary_from     6\n",
       "salary_to       5\n",
       "created        12\n",
       "dtype: int64"
      ]
     },
     "execution_count": 193,
     "metadata": {},
     "output_type": "execute_result"
    }
   ],
   "source": [
    "company_vacancies.count()"
   ]
  },
  {
   "cell_type": "code",
   "execution_count": 194,
   "metadata": {},
   "outputs": [],
   "source": [
    "company_vacancies['weekday'] = company_vacancies['created'].apply(lambda x: x.weekday() + 1)\n",
    "company_vacancies['hour'] = company_vacancies['created'].apply(lambda x: x.hour)"
   ]
  },
  {
   "cell_type": "code",
   "execution_count": 195,
   "metadata": {},
   "outputs": [
    {
     "data": {
      "text/plain": [
       "<matplotlib.axes._subplots.AxesSubplot at 0x7ff6a6d70a90>"
      ]
     },
     "execution_count": 195,
     "metadata": {},
     "output_type": "execute_result"
    },
    {
     "data": {
      "image/png": "[encoded data removed]",
      "text/plain": [
       "<Figure size 432x288 with 1 Axes>"
      ]
     },
     "metadata": {},
     "output_type": "display_data"
    }
   ],
   "source": [
    "seaborn.countplot(company_vacancies.weekday)"
   ]
  },
  {
   "cell_type": "code",
   "execution_count": 196,
   "metadata": {},
   "outputs": [
    {
     "data": {
      "text/plain": [
       "<matplotlib.axes._subplots.AxesSubplot at 0x7ff6a6d12ba8>"
      ]
     },
     "execution_count": 196,
     "metadata": {},
     "output_type": "execute_result"
    },
    {
     "data": {
      "image/png": "[encoded data removed]",
      "text/plain": [
       "<Figure size 432x288 with 1 Axes>"
      ]
     },
     "metadata": {},
     "output_type": "display_data"
    }
   ],
   "source": [
    "seaborn.countplot(company_vacancies.hour)"
   ]
  },
  {
   "cell_type": "code",
   "execution_count": 197,
   "metadata": {},
   "outputs": [
    {
     "data": {
      "text/plain": [
       "(28000.0, 35000.0)"
      ]
     },
     "execution_count": 197,
     "metadata": {},
     "output_type": "execute_result"
    }
   ],
   "source": [
    "sfrom = company_vacancies[company_vacancies.salary_from > 10000].salary_from.min()\n",
    "sto = company_vacancies.salary_to.min()\n",
    "\n",
    "sfrom, sto"
   ]
  },
  {
   "cell_type": "code",
   "execution_count": 198,
   "metadata": {},
   "outputs": [
    {
     "data": {
      "text/plain": [
       "<matplotlib.axes._subplots.AxesSubplot at 0x7ff6a6ce2438>"
      ]
     },
     "execution_count": 198,
     "metadata": {},
     "output_type": "execute_result"
    },
    {
     "data": {
      "image/png": "[encoded data removed]",
      "text/plain": [
       "<Figure size 432x288 with 1 Axes>"
      ]
     },
     "metadata": {},
     "output_type": "display_data"
    }
   ],
   "source": [
    "def avg_salary(row):\n",
    "    if pandas.isnull(row.salary_from) or row.salary_from < 10000:\n",
    "        f = sfrom\n",
    "    else:\n",
    "        f = row.salary_from\n",
    "    if pandas.isnull(row.salary_to) or row.salary_to < 10000:\n",
    "        t = sto\n",
    "    else:\n",
    "        t = row.salary_to\n",
    "    return float(f + t) / 2\n",
    "\n",
    "seaborn.boxplot(company_vacancies.apply(avg_salary, axis=1))"
   ]
  },
  {
   "cell_type": "code",
   "execution_count": null,
   "metadata": {},
   "outputs": [],
   "source": []
  }
 ],
 "metadata": {
  "kernelspec": {
   "display_name": "Python 3",
   "language": "python",
   "name": "python3"
  },
  "language_info": {
   "codemirror_mode": {
    "name": "ipython",
    "version": 3
   },
   "file_extension": ".py",
   "mimetype": "text/x-python",
   "name": "python",
   "nbconvert_exporter": "python",
   "pygments_lexer": "ipython3",
   "version": "3.5.2"
  }
 },
 "nbformat": 4,
 "nbformat_minor": 2
}
